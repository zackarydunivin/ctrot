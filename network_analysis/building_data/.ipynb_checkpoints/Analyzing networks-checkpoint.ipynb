{
 "cells": [
  {
   "cell_type": "markdown",
   "metadata": {},
   "source": [
    "# Analyzing networks\n",
    "\n",
    "This is a redo of a previous script that is significantly less complicated. \n",
    "\n",
    "Also, THIS SCRIPT WRITES TO FILES, SO YOU CANNOT AND SHOULD NOT DO IT IN PARALLEL. "
   ]
  },
  {
   "cell_type": "code",
   "execution_count": null,
   "metadata": {},
   "outputs": [],
   "source": [
    "import networkx as nx\n",
    "import os\n",
    "import pickle\n",
    "from tqdm import tqdm\n",
    "from datetime import datetime, timedelta\n",
    "import csv\n",
    "\n",
    "from tqdm import tqdm"
   ]
  },
  {
   "cell_type": "code",
   "execution_count": null,
   "metadata": {},
   "outputs": [],
   "source": [
    "start_date = datetime.strptime(\"2009-11-18 00:00:00\",\"%Y-%m-%d 00:00:00\")\n",
    "end_date = datetime.strptime(\"2017-10-18 00:00:00\",\"%Y-%m-%d 00:00:00\")\n",
    "total_days = 2871\n",
    "binsize = 7\n",
    "\n",
    "source_folder = \"/home/vincent/Documents/School/Research/CTROT/gendata/\"\n",
    "graphs_folder = \"networks_folder_%i/\"%binsize\n",
    "stats_folder = \"nodestats_folder_%i/\"%binsize\n",
    "\n",
    "if stats_folder not in [x+\"/\" for x in os.listdir(source_folder)]:\n",
    "    os.makedirs(source_folder+stats_folder)\n",
    "    \n",
    "#Get userlist here\n",
    "with open(\"egolist.txt\",'r') as f:\n",
    "    userlist = [x.replace(\"\\n\",\"\") for x in f.readlines()]\n",
    "userfiles_created = set([])"
   ]
  },
  {
   "cell_type": "code",
   "execution_count": null,
   "metadata": {},
   "outputs": [],
   "source": [
    "list_of_dates = sorted(os.listdir(source_folder + graphs_folder))\n",
    "\n",
    "for date in tqdm(list_of_dates):\n",
    "    date_str = date.replace(\".pickle\",\"\")\n",
    "    date_fn = date\n",
    "    \n",
    "    with open(source_folder + graphs_folder + date_fn,'rb') as f:\n",
    "        g = pickle.load(f)\n",
    "        \n",
    "    k_decomp = nx.core_number(g)\n",
    "    \n",
    "    for node in k_decomp:\n",
    "        if node in userlist:\n",
    "            if node not in userfiles_created:\n",
    "                with open(source_folder+stats_folder+node+\".txt\",'w') as f:\n",
    "                    f.write(date_str + \", \" + str(k_decomp[node]) + \"\\n\")\n",
    "                    userfiles_created.add(node)\n",
    "            else:\n",
    "                with open(source_folder+stats_folder+node+\".txt\",'a') as f:\n",
    "                    f.write(date_str + \", \" + str(k_decomp[node]) + \"\\n\")"
   ]
  }
 ],
 "metadata": {
  "kernelspec": {
   "display_name": "Python 3",
   "language": "python",
   "name": "python3"
  },
  "language_info": {
   "codemirror_mode": {
    "name": "ipython",
    "version": 3
   },
   "file_extension": ".py",
   "mimetype": "text/x-python",
   "name": "python",
   "nbconvert_exporter": "python",
   "pygments_lexer": "ipython3",
   "version": "3.6.7"
  }
 },
 "nbformat": 4,
 "nbformat_minor": 2
}

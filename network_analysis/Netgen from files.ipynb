{
 "cells": [
  {
   "cell_type": "code",
   "execution_count": null,
   "metadata": {},
   "outputs": [],
   "source": [
    "import multiprocessing as mp\n",
    "import networkx as nx\n",
    "import os\n",
    "import pickle\n",
    "from datetime import datetime, timedelta\n",
    "import csv\n",
    "\n",
    "from tqdm import tqdm"
   ]
  },
  {
   "cell_type": "code",
   "execution_count": null,
   "metadata": {},
   "outputs": [],
   "source": [
    "start_date = datetime.strptime(\"2009-11-18 00:00:00\",\"%Y-%m-%d 00:00:00\")\n",
    "end_date = datetime.strptime(\"2017-10-18 00:00:00\",\"%Y-%m-%d 00:00:00\")\n",
    "total_days = 2871\n",
    "binsize = 7\n",
    "\n",
    "source_folder = \"/home/vincent/Documents/School/Research/CTROT/\"\n",
    "rtfiles_folder = \"us_wn_timelines_rt/\"\n",
    "graphs_folder = \"networks_folder/\""
   ]
  },
  {
   "cell_type": "code",
   "execution_count": null,
   "metadata": {},
   "outputs": [],
   "source": [
    "def networkMake(datelist):\n",
    "    date_fn = datelist[0].strftime(\"%Y-%m-%d\") + \".pickle\"\n",
    "    print(\"%s started...\"%date_fn)    \n",
    "    \n",
    "    g = nx.Graph()\n",
    "    for date in datelist:\n",
    "        fn = date.strftime(\"%Y-%m-%d\")+\".csv\"\n",
    "        #Open csv\n",
    "        with open(source_folder + rtfiles_folder + fn,'r') as f:\n",
    "            data = csv.reader(f,delimiter=',')\n",
    "            next(data) #Skip the first line\n",
    "            for row in data:\n",
    "                g.add_edge(row[0],row[1])\n",
    "    \n",
    "    #Pickle the network\n",
    "    with open(source_folder + graphs_folder + date_fn, 'wb' ) as f:\n",
    "        pickle.dump(g,f)\n",
    "    \n",
    "    print(\"%s finished!\"%date_fn)"
   ]
  },
  {
   "cell_type": "code",
   "execution_count": null,
   "metadata": {},
   "outputs": [],
   "source": [
    "if __name__ == \"__main__\":\n",
    "    pool = mp.Pool(processes = 8)\n",
    "    \n",
    "    #List of dates\n",
    "    list_of_dates = []\n",
    "    for current_date in [start_date + timedelta(x) for x in range(total_days-binsize)]:\n",
    "        list_of_dates.append( [current_date + timedelta(i) for i in range(binsize)] )\n",
    "    \n",
    "    multiple_results = [pool.apply_async(networkMake,(datelist,)) for datelist in list_of_dates]"
   ]
  },
  {
   "cell_type": "code",
   "execution_count": null,
   "metadata": {},
   "outputs": [],
   "source": [
    "len(multiple_results)"
   ]
  },
  {
   "cell_type": "code",
   "execution_count": null,
   "metadata": {},
   "outputs": [],
   "source": [
    "pool.close()"
   ]
  }
 ],
 "metadata": {
  "kernelspec": {
   "display_name": "Python 3",
   "language": "python",
   "name": "python3"
  },
  "language_info": {
   "codemirror_mode": {
    "name": "ipython",
    "version": 3
   },
   "file_extension": ".py",
   "mimetype": "text/x-python",
   "name": "python",
   "nbconvert_exporter": "python",
   "pygments_lexer": "ipython3",
   "version": "3.6.7"
  }
 },
 "nbformat": 4,
 "nbformat_minor": 2
}

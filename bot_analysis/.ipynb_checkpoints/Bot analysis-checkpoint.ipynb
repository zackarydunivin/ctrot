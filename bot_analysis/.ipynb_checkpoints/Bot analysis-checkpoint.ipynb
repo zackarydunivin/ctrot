{
 "cells": [
  {
   "cell_type": "code",
   "execution_count": null,
   "metadata": {
    "collapsed": true
   },
   "outputs": [],
   "source": [
    "import botometer\n",
    "import pandas as pd\n",
    "from tqdm import tqdm\n",
    "import os\n",
    "import json\n",
    "import numpy as np"
   ]
  },
  {
   "cell_type": "markdown",
   "metadata": {},
   "source": [
    "## Get users in the highest k-shells of communities across time\n",
    "\n",
    "Probably important to only get the recent stuff"
   ]
  },
  {
   "cell_type": "code",
   "execution_count": null,
   "metadata": {
    "collapsed": true
   },
   "outputs": [],
   "source": [
    "nodestats_folder = \"nodestats_folder/\""
   ]
  },
  {
   "cell_type": "code",
   "execution_count": null,
   "metadata": {
    "collapsed": true
   },
   "outputs": [],
   "source": [
    "seed_nodes = [27522964, 42786325, 52352820, 72931184, 75736238, 87229781, 90657826, 114374226, 152852932, 154891961, 209693451, 271397818, 322027737, 402181258, 433462889, 1457805708, 2167525794, 2231109295, 2349347329, 2442888666, 2490088512, 2888660047, 2915187060, 2995401932, 3012158891, 3234613430, 3999537573, 813914393788481540, 817163123182465024, 832319306541178881, 850408392925499392, 857482409012547584, 894682675893735426, 903046544919732224]"
   ]
  },
  {
   "cell_type": "code",
   "execution_count": null,
   "metadata": {
    "collapsed": true
   },
   "outputs": [],
   "source": [
    "###### highest_k_users = {} #Keys are comm nums. Values are {\"users\": set of users, and \"associated_k\": the max k for comm}\n",
    "\n",
    "for filename in os.listdir(nodestats_folder):\n",
    "    with open(nodestats_folder+filename,'rb') as f:\n",
    "        df = pd.read_csv(f)\n",
    "    \n",
    "    max_comm = df['Community_graph'].max()\n",
    "    for commnum in range(max_comm):\n",
    "        max_k = df.loc[df['Community_graph']==commnum]['k_value'].max()\n",
    "        users = [x[0] for x in df.loc[df['Community_graph']==commnum].loc[df['k_value']==max_k].iterrows()]\n",
    "        if commnum not in highest_k_users:\n",
    "            highest_k_users[commnum] = {\"users\": set(), \"associated_k\": max_k}\n",
    "        highest_k_users[commnum]['users'].add(set(users))"
   ]
  },
  {
   "cell_type": "code",
   "execution_count": null,
   "metadata": {
    "collapsed": true
   },
   "outputs": [],
   "source": [
    "#Aggregate all users for future use\n",
    "all_highest_k_users = set()\n",
    "\n",
    "for v in highest_k_users.values():\n",
    "    all_highest_k_users['users'].add(v)"
   ]
  },
  {
   "cell_type": "markdown",
   "metadata": {},
   "source": [
    "## Query botometer for users"
   ]
  },
  {
   "cell_type": "code",
   "execution_count": null,
   "metadata": {
    "collapsed": true
   },
   "outputs": [],
   "source": [
    "bom = botometer.Botometer(wait_on_ratelimit=True, #good for this\n",
    "                          mashape_key=mashape_key,\n",
    "                          **twitter_app_auth)"
   ]
  },
  {
   "cell_type": "code",
   "execution_count": null,
   "metadata": {
    "collapsed": true
   },
   "outputs": [],
   "source": [
    "#Calculate all botscores\n",
    "botscores = {}\n",
    "\n",
    "for id_str, result in tqdm(bom.check_accounts_in(list(all_highest_k_users))):\n",
    "    botscores[id_str] = result"
   ]
  },
  {
   "cell_type": "markdown",
   "metadata": {},
   "source": [
    "It might be necessary to transform these results to switch out the screen_name with the id_str for future indexing purposes. "
   ]
  },
  {
   "cell_type": "code",
   "execution_count": null,
   "metadata": {
    "collapsed": true
   },
   "outputs": [],
   "source": [
    "#Output bot scores\n",
    "with open(\"bot_scores_all.json\",'wb') as f:\n",
    "    json.dump(botscores,f)"
   ]
  },
  {
   "cell_type": "markdown",
   "metadata": {},
   "source": [
    "## Reverse tether bot scores to communities over time"
   ]
  },
  {
   "cell_type": "code",
   "execution_count": null,
   "metadata": {
    "collapsed": true
   },
   "outputs": [],
   "source": [
    "#Distribution of bot scores per community\n",
    "community_botscore_distros = [] #Timeline of bot score distributions per community\n",
    "\n",
    "for filename in os.listdir(nodestats_folder):\n",
    "    with open(nodestats_folder+filename,'rb') as f:\n",
    "        df = pd.read_csv(f)\n",
    "    df['botscore'] = pd.Series(np.zeros(len(df['k_value'])), index=df.index)\n",
    "    #df['mean_botscore'] = pd.Series(np.zeros(len(df['k_value'])), index=df.index)\n",
    "    #df['median_botscore'] = pd.Series(np.zeros(len(df['k_value'])), index=df.index)\n",
    "    \n",
    "    max_comm = df['Community_graph'].max()\n",
    "    community_botscore_distro = {}\n",
    "    for commnum in range(max_comm):\n",
    "        max_k = df.loc[df['Community_graph']==commnum]['k_value'].max()\n",
    "        users = [x[0] for x in df.loc[df['Community_graph']==commnum].loc[df['k_value']==max_k].iterrows()]\n",
    "        #BE CAREFUL ABOUT THIS AND TEST THE INDEX. NEW ROW WILL BE ADDED IF MISSING INDEX\n",
    "        for user in users:\n",
    "            df.at[user,'botscore'] = botscores[user]\n",
    "        botscore_distro = np.array([botscores[userid] for userid in users])\n",
    "        mean = np.mean(botscore_distro)\n",
    "        median = np.median(botscore_distro)\n",
    "        #Some metric to test viability of mean/median?\n",
    "        community_botscore_distro[commnum] = botscore_distro\n",
    "    community_botscore_distros.append(community_botscore_distro)"
   ]
  },
  {
   "cell_type": "code",
   "execution_count": null,
   "metadata": {
    "collapsed": true
   },
   "outputs": [],
   "source": [
    "with open(\"community_scores_all.json\",'wb') as f:\n",
    "    json.dump(community_botscore_distros)"
   ]
  },
  {
   "cell_type": "markdown",
   "metadata": {},
   "source": [
    "# TESTING AREA"
   ]
  },
  {
   "cell_type": "code",
   "execution_count": null,
   "metadata": {
    "collapsed": true
   },
   "outputs": [],
   "source": [
    "df = pd.DataFrame([[1.8,3.4],[7.8,2.9],[8.6,9.0],[7.8,5.7],[3.4,1.2]]).rename(index=str,columns={0:\"k_value\",1:\"Community_graph\"})"
   ]
  },
  {
   "cell_type": "code",
   "execution_count": null,
   "metadata": {
    "collapsed": true
   },
   "outputs": [],
   "source": [
    "df.loc[df['k_value']==df['k_value'].max()]['Community_graph'].tolist()"
   ]
  },
  {
   "cell_type": "code",
   "execution_count": null,
   "metadata": {
    "collapsed": true
   },
   "outputs": [],
   "source": [
    "df"
   ]
  },
  {
   "cell_type": "code",
   "execution_count": null,
   "metadata": {
    "collapsed": true
   },
   "outputs": [],
   "source": [
    "df.at['0','e'] = 10"
   ]
  }
 ],
 "metadata": {
  "kernelspec": {
   "display_name": "Python 3",
   "language": "python",
   "name": "python3"
  },
  "language_info": {
   "codemirror_mode": {
    "name": "ipython",
    "version": 3
   },
   "file_extension": ".py",
   "mimetype": "text/x-python",
   "name": "python",
   "nbconvert_exporter": "python",
   "pygments_lexer": "ipython3",
   "version": "3.5.2"
  }
 },
 "nbformat": 4,
 "nbformat_minor": 2
}

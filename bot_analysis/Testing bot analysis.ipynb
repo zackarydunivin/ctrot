{
 "cells": [
  {
   "cell_type": "code",
   "execution_count": 3,
   "metadata": {
    "collapsed": true
   },
   "outputs": [],
   "source": [
    "import botometer"
   ]
  },
  {
   "cell_type": "code",
   "execution_count": 4,
   "metadata": {
    "collapsed": true
   },
   "outputs": [],
   "source": [
    "mashape_key = \"xx\"\n",
    "twitter_app_auth = {\n",
    "    'consumer_key': 'xx',\n",
    "    'consumer_secret': 'xx',\n",
    "    'access_token': 'xx-xx',\n",
    "    'access_token_secret': 'xx',\n",
    "  }\n",
    "bom = botometer.Botometer(wait_on_ratelimit=True,\n",
    "                          mashape_key=mashape_key,\n",
    "                          **twitter_app_auth)"
   ]
  },
  {
   "cell_type": "code",
   "execution_count": 5,
   "metadata": {},
   "outputs": [
    {
     "name": "stdout",
     "output_type": "stream",
     "text": [
      "{'categories': {'temporal': 0.2518266831048403, 'sentiment': 0.07214003430676995, 'content': 0.058082395351262375, 'network': 0.08358138135822211, 'user': 0.03231797793572659, 'friend': 0.08326840559607163}, 'display_scores': {'universal': 0.4, 'temporal': 1.3, 'sentiment': 0.4, 'content': 0.3, 'network': 0.4, 'user': 0.2, 'english': 0.2, 'friend': 0.4}, 'user': {'id_str': '1548959833', 'screen_name': 'clayadavis'}, 'cap': {'universal': 0.003940623559956331, 'english': 0.0014187924969112314}, 'scores': {'universal': 0.08899515596679244, 'english': 0.03265990956683609}}\n"
     ]
    }
   ],
   "source": [
    "# Check a single account by screen name\n",
    "result = bom.check_account('@clayadavis')\n",
    "print(result)"
   ]
  },
  {
   "cell_type": "code",
   "execution_count": null,
   "metadata": {
    "collapsed": true
   },
   "outputs": [],
   "source": [
    "MOCK RESULT\n",
    "# {\n",
    "#   \"cap\": {\n",
    "#     \"english\": 0.0011785984309163565,\n",
    "#     \"universal\": 0.0016912294273666159\n",
    "#   },\n",
    "#   \"categories\": {\n",
    "#     \"content\": 0.058082395351262375,\n",
    "#     \"friend\": 0.044435259626385865,\n",
    "#     \"network\": 0.07064549990637549,\n",
    "#     \"sentiment\": 0.07214003430676995,\n",
    "#     \"temporal\": 0.07924665710801207,\n",
    "#     \"user\": 0.027817972609638725\n",
    "#   },\n",
    "#   \"display_scores\": {\n",
    "#     \"content\": 0.3,\n",
    "#     \"english\": 0.1,\n",
    "#     \"friend\": 0.2,\n",
    "#     \"network\": 0.4,\n",
    "#     \"sentiment\": 0.4,\n",
    "#     \"temporal\": 0.4,\n",
    "#     \"universal\": 0.1,\n",
    "#     \"user\": 0.1\n",
    "#   },\n",
    "#   \"scores\": {\n",
    "#     \"english\": 0.0215615093045025,\n",
    "#     \"universal\": 0.0254864249403189\n",
    "#   },\n",
    "#   \"user\": {\n",
    "#     \"id_str\": \"1548959833\",\n",
    "#     \"screen_name\": \"clayadavis\",\n",
    "#     \"...\": \"...\"\n",
    "#   }\n",
    "# }"
   ]
  }
 ],
 "metadata": {
  "kernelspec": {
   "display_name": "Python 3",
   "language": "python",
   "name": "python3"
  },
  "language_info": {
   "codemirror_mode": {
    "name": "ipython",
    "version": 3
   },
   "file_extension": ".py",
   "mimetype": "text/x-python",
   "name": "python",
   "nbconvert_exporter": "python",
   "pygments_lexer": "ipython3",
   "version": "3.5.2"
  }
 },
 "nbformat": 4,
 "nbformat_minor": 2
}
